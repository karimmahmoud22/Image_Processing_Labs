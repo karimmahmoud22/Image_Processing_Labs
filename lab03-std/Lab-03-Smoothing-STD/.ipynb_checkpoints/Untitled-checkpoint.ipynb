{
 "cells": [
  {
   "cell_type": "code",
   "execution_count": 1,
   "id": "fedd0a40",
   "metadata": {},
   "outputs": [],
   "source": [
    "from commonfunctions import *\n",
    "import math\n",
    "import skimage.io as io\n",
    "\n",
    "# Show the figures / plots inside the notebook\n",
    "%matplotlib inline\n",
    "from skimage.color import rgb2gray,rgb2hsv,rgba2rgb\n",
    "from skimage.transform import resize\n",
    "import matplotlib.pyplot as plt\n",
    "import numpy as np\n",
    "from skimage.util import random_noise\n",
    "import numpy as np\n",
    "\n",
    "from skimage.exposure import histogram\n",
    "from matplotlib.pyplot import bar"
   ]
  },
  {
   "cell_type": "code",
   "execution_count": 2,
   "id": "b0ea681d",
   "metadata": {},
   "outputs": [],
   "source": [
    "def show_images(images,titles=None):\n",
    "    #This function is used to show image(s) with titles by sending an array of images and an array of associated titles.\n",
    "    # images[0] will be drawn with the title titles[0] if exists\n",
    "    # You aren't required to understand this function, use it as-is.\n",
    "    n_ims = len(images)\n",
    "    if titles is None: titles = ['(%d)' % i for i in range(1,n_ims + 1)]\n",
    "    fig = plt.figure()\n",
    "    n = 1\n",
    "    for image,title in zip(images,titles):\n",
    "        a = fig.add_subplot(1,n_ims,n)\n",
    "        if image.ndim == 2: \n",
    "            plt.gray()\n",
    "        plt.imshow(image)\n",
    "        a.set_title(title)\n",
    "        n += 1\n",
    "    fig.set_size_inches(np.array(fig.get_size_inches()) * n_ims)\n",
    "    plt.show()"
   ]
  },
  {
   "cell_type": "code",
   "execution_count": null,
   "id": "ce3cf2fd",
   "metadata": {},
   "outputs": [],
   "source": [
    "'''\n",
    "(1) Your own median filter algorithm\n",
    "'''\n",
    "img = io.imread('tire.jpg')\n",
    "img2 = rgb2gray(img)\n",
    "noise_img1e = random_noise(img2, mode='s&p',amount=0.25)\n",
    "noise_img_temp = noise_img1e\n",
    "#print(noise_img1e)\n",
    "\n",
    "for i in range (1,noise_img1e.shape[0]-2):\n",
    "    for j in range (1,noise_img1e.shape[1]-2):\n",
    "        temp = np.zeros([9])\n",
    "        counter=0\n",
    "        for k in range (i-1,i+2):\n",
    "            for l in range (j-1,j+2):\n",
    "                temp[counter]=noise_img1e[k][l]\n",
    "                counter = counter+1\n",
    "        temp.sort()\n",
    "        noise_img1e[i][j]=temp[4]       \n",
    "\n",
    "print (noise_img1e)\n",
    "images=[noise_img_temp,noise_img1e ]\n",
    "show_images(images)"
   ]
  }
 ],
 "metadata": {
  "kernelspec": {
   "display_name": "Python 3 (ipykernel)",
   "language": "python",
   "name": "python3"
  },
  "language_info": {
   "codemirror_mode": {
    "name": "ipython",
    "version": 3
   },
   "file_extension": ".py",
   "mimetype": "text/x-python",
   "name": "python",
   "nbconvert_exporter": "python",
   "pygments_lexer": "ipython3",
   "version": "3.9.12"
  }
 },
 "nbformat": 4,
 "nbformat_minor": 5
}
